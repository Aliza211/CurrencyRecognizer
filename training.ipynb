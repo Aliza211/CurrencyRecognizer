{
  "nbformat": 4,
  "nbformat_minor": 0,
  "metadata": {
    "colab": {
      "name": "currency.ipynb",
      "provenance": [],
      "collapsed_sections": [],
      "machine_shape": "hm"
    },
    "kernelspec": {
      "name": "python3",
      "display_name": "Python 3"
    },
    "accelerator": "GPU"
  },
  "cells": [
    {
      "cell_type": "code",
      "metadata": {
        "id": "Wsn7TmR5onbF",
        "colab_type": "code",
        "colab": {}
      },
      "source": [
        "import cv2 as cv\n",
        "import numpy as np\n",
        "import os\n",
        "import matplotlib.pyplot as plt\n",
        "from tqdm import tqdm\n",
        "import random\n",
        "\n",
        "DATADIR=\"aliza\"\n",
        "CATEGORIES=[\"ten\",\"twenty\",\"fifty\"]\n",
        "img_size=256\n"
      ],
      "execution_count": 0,
      "outputs": []
    },
    {
      "cell_type": "code",
      "metadata": {
        "id": "U3qvY-7Ia6tJ",
        "colab_type": "code",
        "colab": {}
      },
      "source": [
        "from google.colab import files\n",
        "\n",
        "with open('model1.hdf5', 'w') as f:\n",
        "  f.write('model.hdf5')\n",
        "\n",
        "files.download('model1.hdf5')"
      ],
      "execution_count": 0,
      "outputs": []
    },
    {
      "cell_type": "code",
      "metadata": {
        "id": "tsLMQxxLpEGB",
        "colab_type": "code",
        "outputId": "658b42dc-64fc-431c-b0cb-316a11f2b60a",
        "colab": {
          "base_uri": "https://localhost:8080/",
          "height": 86
        }
      },
      "source": [
        "#For preprocessing of the data\n",
        "training_data=[]\n",
        "def create_training_data():\n",
        "  for i in tqdm(CATEGORIES):\n",
        "    path=os.path.join(DATADIR,i)\n",
        "    class_num=CATEGORIES.index(i)\n",
        "    print(class_num)\n",
        "    for img in (os.listdir(path)):\n",
        "      img_array=cv.resize(cv.imread(os.path.join(path,img),cv.IMREAD_COLOR),(img_size,img_size))\n",
        "      training_data.append([img_array,class_num])\n",
        "  np.save('train_data.npy',training_data)\n",
        "  random.shuffle(training_data)       \n",
        "create_training_data()\n"
      ],
      "execution_count": 6,
      "outputs": [
        {
          "output_type": "stream",
          "text": [
            "\r  0%|          | 0/3 [00:00<?, ?it/s]"
          ],
          "name": "stderr"
        },
        {
          "output_type": "stream",
          "text": [
            "0\n"
          ],
          "name": "stdout"
        },
        {
          "output_type": "stream",
          "text": [
            "\r 33%|███▎      | 1/3 [00:13<00:26, 13.42s/it]"
          ],
          "name": "stderr"
        },
        {
          "output_type": "stream",
          "text": [
            "1\n"
          ],
          "name": "stdout"
        },
        {
          "output_type": "stream",
          "text": [
            "\r 67%|██████▋   | 2/3 [00:24<00:12, 12.86s/it]"
          ],
          "name": "stderr"
        },
        {
          "output_type": "stream",
          "text": [
            "2\n"
          ],
          "name": "stdout"
        },
        {
          "output_type": "stream",
          "text": [
            "\r100%|██████████| 3/3 [00:38<00:00, 13.17s/it]\n"
          ],
          "name": "stderr"
        }
      ]
    },
    {
      "cell_type": "code",
      "metadata": {
        "id": "AWjzM2M-qZxG",
        "colab_type": "code",
        "outputId": "819017a2-bb0e-4ba9-eee8-91d2470c5612",
        "colab": {
          "base_uri": "https://localhost:8080/",
          "height": 34
        }
      },
      "source": [
        "X =[]\n",
        "y =[]\n",
        "for features,label in training_data:\n",
        "    X.append(features)\n",
        "    y.append(label)\n",
        "X=np.array(X)\n",
        "y=np.array(y)\n",
        "print(y)"
      ],
      "execution_count": 7,
      "outputs": [
        {
          "output_type": "stream",
          "text": [
            "[0 1 0 ... 1 2 1]\n"
          ],
          "name": "stdout"
        }
      ]
    },
    {
      "cell_type": "code",
      "metadata": {
        "id": "yuSq0kgjbGG1",
        "colab_type": "code",
        "outputId": "b9b85207-aa13-4638-ab26-9567ad69abd1",
        "colab": {
          "base_uri": "https://localhost:8080/",
          "height": 448
        }
      },
      "source": [
        "import tensorflow as tf\n",
        "import keras\n",
        "from tensorflow.keras.preprocessing.image import ImageDataGenerator\n",
        "from tensorflow.keras.models import Sequential\n",
        "from tensorflow.keras.layers import Dense, Dropout, Activation, Flatten\n",
        "from tensorflow.keras.layers import Conv2D, MaxPooling2D,BatchNormalization\n",
        "from tensorflow.keras.callbacks import TensorBoard\n",
        "from keras.utils import to_categorical  \n",
        "from tensorflow.python.keras.optimizers import Adam, Adagrad\n",
        "\n",
        "#NAME=\"currencyy\"\n",
        "#tensorboard = TensorBoard(log_dir=\"logs/{}\".format(NAME))\n",
        "X = X.reshape([-1,img_size,img_size, 3])\n",
        "\n",
        "X=X/255.0    #normalizing features\n",
        "y= to_categorical(y)\n",
        "print(y)\n",
        "\n",
        "model = Sequential()\n",
        "\n",
        "model.add(Conv2D(256,kernel_size=(3, 3),strides=(1,1),input_shape=(img_size,img_size,3)))\n",
        "model.add(Activation('relu'))\n",
        "model.add(MaxPooling2D(pool_size=(2, 2)))\n",
        "\n",
        "model.add(Conv2D(256,kernel_size=(3, 3),strides=(1,1)))\n",
        "model.add(Activation('relu'))\n",
        "model.add(MaxPooling2D(pool_size=(2, 2)))\n",
        "\n",
        "model.add(Flatten())  # this converts our 3D feature maps to 1D feature vectors\n",
        "\n",
        "model.add(Dense(64))\n",
        "model.add(Activation('relu'))\n",
        "\n",
        "model.add(Dense(3))\n",
        "model.add(Activation('softmax'))\n",
        "opt=Adam(lr=0.0001)\n",
        "model.compile(loss='categorical_crossentropy',optimizer=opt,metrics=['accuracy'])\n",
        "#model.compile(loss='categorical_crossentropy',optimizer='adam',metrics=['accuracy'])\n",
        "#model.compile(loss='binary_crossentropy',optimizer='adam',metrics=['accuracy'])#binary for using only two classes\n",
        "\n",
        "model.fit(X, y, batch_size=32, epochs=4, validation_split=0.2)\n",
        "model.save('model1.hdf5')\n"
      ],
      "execution_count": 8,
      "outputs": [
        {
          "output_type": "display_data",
          "data": {
            "text/html": [
              "<p style=\"color: red;\">\n",
              "The default version of TensorFlow in Colab will soon switch to TensorFlow 2.x.<br>\n",
              "We recommend you <a href=\"https://www.tensorflow.org/guide/migrate\" target=\"_blank\">upgrade</a> now \n",
              "or ensure your notebook will continue to use TensorFlow 1.x via the <code>%tensorflow_version 1.x</code> magic:\n",
              "<a href=\"https://colab.research.google.com/notebooks/tensorflow_version.ipynb\" target=\"_blank\">more info</a>.</p>\n"
            ],
            "text/plain": [
              "<IPython.core.display.HTML object>"
            ]
          },
          "metadata": {
            "tags": []
          }
        },
        {
          "output_type": "stream",
          "text": [
            "Using TensorFlow backend.\n"
          ],
          "name": "stderr"
        },
        {
          "output_type": "stream",
          "text": [
            "[[1. 0. 0.]\n",
            " [0. 1. 0.]\n",
            " [1. 0. 0.]\n",
            " ...\n",
            " [0. 1. 0.]\n",
            " [0. 0. 1.]\n",
            " [0. 1. 0.]]\n",
            "WARNING:tensorflow:From /usr/local/lib/python3.6/dist-packages/tensorflow_core/python/ops/resource_variable_ops.py:1630: calling BaseResourceVariable.__init__ (from tensorflow.python.ops.resource_variable_ops) with constraint is deprecated and will be removed in a future version.\n",
            "Instructions for updating:\n",
            "If using Keras pass *_constraint arguments to layers.\n",
            "Train on 4934 samples, validate on 1234 samples\n",
            "Epoch 1/4\n",
            "4934/4934 [==============================] - 49s 10ms/sample - loss: 0.7265 - acc: 0.6782 - val_loss: 0.4644 - val_acc: 0.7998\n",
            "Epoch 2/4\n",
            "4934/4934 [==============================] - 41s 8ms/sample - loss: 0.3034 - acc: 0.8887 - val_loss: 0.2257 - val_acc: 0.9287\n",
            "Epoch 3/4\n",
            "4934/4934 [==============================] - 42s 8ms/sample - loss: 0.1665 - acc: 0.9467 - val_loss: 0.1814 - val_acc: 0.9408\n",
            "Epoch 4/4\n",
            "4934/4934 [==============================] - 42s 8ms/sample - loss: 0.1026 - acc: 0.9714 - val_loss: 0.1279 - val_acc: 0.9595\n"
          ],
          "name": "stdout"
        }
      ]
    },
    {
      "cell_type": "code",
      "metadata": {
        "id": "LriRB_U-11Td",
        "colab_type": "code",
        "outputId": "4bd6996e-daed-4703-87b8-75f188c194a0",
        "colab": {
          "base_uri": "https://localhost:8080/",
          "height": 538
        }
      },
      "source": [
        "model.summary() #for summary or detail of the model"
      ],
      "execution_count": 9,
      "outputs": [
        {
          "output_type": "stream",
          "text": [
            "Model: \"sequential\"\n",
            "_________________________________________________________________\n",
            "Layer (type)                 Output Shape              Param #   \n",
            "=================================================================\n",
            "conv2d (Conv2D)              (None, 254, 254, 256)     7168      \n",
            "_________________________________________________________________\n",
            "activation (Activation)      (None, 254, 254, 256)     0         \n",
            "_________________________________________________________________\n",
            "max_pooling2d (MaxPooling2D) (None, 127, 127, 256)     0         \n",
            "_________________________________________________________________\n",
            "conv2d_1 (Conv2D)            (None, 125, 125, 256)     590080    \n",
            "_________________________________________________________________\n",
            "activation_1 (Activation)    (None, 125, 125, 256)     0         \n",
            "_________________________________________________________________\n",
            "max_pooling2d_1 (MaxPooling2 (None, 62, 62, 256)       0         \n",
            "_________________________________________________________________\n",
            "flatten (Flatten)            (None, 984064)            0         \n",
            "_________________________________________________________________\n",
            "dense (Dense)                (None, 64)                62980160  \n",
            "_________________________________________________________________\n",
            "activation_2 (Activation)    (None, 64)                0         \n",
            "_________________________________________________________________\n",
            "dense_1 (Dense)              (None, 3)                 195       \n",
            "_________________________________________________________________\n",
            "activation_3 (Activation)    (None, 3)                 0         \n",
            "=================================================================\n",
            "Total params: 63,577,603\n",
            "Trainable params: 63,577,603\n",
            "Non-trainable params: 0\n",
            "_________________________________________________________________\n"
          ],
          "name": "stdout"
        }
      ]
    },
    {
      "cell_type": "code",
      "metadata": {
        "id": "SK2YPYl-rvVX",
        "colab_type": "code",
        "colab": {}
      },
      "source": [
        "def prepare(filepath):\n",
        "    img_array = cv.imread(filepath, cv.IMREAD_COLOR)  # read in the image\n",
        "    new_array = cv.resize(img_array, (img_size,img_size))# resize image to match model's expected sizing\n",
        "    new_array=new_array/1.0\n",
        "    return new_array.reshape(-1,img_size,img_size, 3)  # return the image with shaping that TF wants.\n"
      ],
      "execution_count": 0,
      "outputs": []
    },
    {
      "cell_type": "code",
      "metadata": {
        "id": "gQIh4lqAqosR",
        "colab_type": "code",
        "outputId": "395bc66d-6891-4459-927a-7c3c605401bd",
        "colab": {
          "base_uri": "https://localhost:8080/",
          "height": 52
        }
      },
      "source": [
        "import tensorflow as tf\n",
        "from tensorflow.keras.datasets import cifar10\n",
        "from tensorflow.keras.preprocessing.image import ImageDataGenerator\n",
        "from tensorflow.keras.models import Sequential\n",
        "from tensorflow.keras.layers import Dense, Dropout, Activation, Flatten\n",
        "from tensorflow.keras.layers import Conv2D, MaxPooling2D\n",
        "from tensorflow.keras.callbacks import TensorBoard\n",
        "\n",
        "model = tf.keras.models.load_model(\"model1.hdf5\")\n",
        "\n",
        "prediction = model.predict(prepare('3.jpg'))\n",
        "print(prediction)\n",
        "if prediction[0][0]== [1]:\n",
        "  print(\"ten\")\n",
        "elif prediction[0][1]==[1]:\n",
        "  print(\"twenty\")\n",
        "elif prediction[0][2]==[1]:\n",
        "  print(\"fifty\")\n"
      ],
      "execution_count": 18,
      "outputs": [
        {
          "output_type": "stream",
          "text": [
            "[[0. 1. 0.]]\n",
            "twenty\n"
          ],
          "name": "stdout"
        }
      ]
    },
    {
      "cell_type": "code",
      "metadata": {
        "id": "n4lkIY76TxBj",
        "colab_type": "code",
        "colab": {}
      },
      "source": [
        ""
      ],
      "execution_count": 0,
      "outputs": []
    },
    {
      "cell_type": "code",
      "metadata": {
        "id": "nxi1sThb10Bp",
        "colab_type": "code",
        "colab": {}
      },
      "source": [
        ""
      ],
      "execution_count": 0,
      "outputs": []
    },
    {
      "cell_type": "code",
      "metadata": {
        "id": "XhVbwoyBruKX",
        "colab_type": "code",
        "colab": {}
      },
      "source": [
        ""
      ],
      "execution_count": 0,
      "outputs": []
    },
    {
      "cell_type": "code",
      "metadata": {
        "id": "_0yba-xPrk_p",
        "colab_type": "code",
        "colab": {}
      },
      "source": [
        ""
      ],
      "execution_count": 0,
      "outputs": []
    }
  ]
}