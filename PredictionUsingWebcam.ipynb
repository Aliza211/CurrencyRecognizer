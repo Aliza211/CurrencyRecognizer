{
 "cells": [
  {
   "cell_type": "code",
   "execution_count": null,
   "metadata": {},
   "outputs": [],
   "source": [
    "import cv2 as cv\n",
    "import numpy as np\n",
    "import os\n",
    "import random\n",
    "import time\n",
    "import tensorflow as tf\n",
    "from tensorflow.keras.datasets import cifar10\n",
    "from tensorflow.keras.preprocessing.image import ImageDataGenerator\n",
    "from tensorflow.keras.models import Sequential\n",
    "from tensorflow.keras.layers import Dense, Dropout, Activation, Flatten\n",
    "from tensorflow.keras.layers import Conv2D, MaxPooling2D\n",
    "from tensorflow.keras.callbacks import TensorBoard\n",
    "\n",
    "model = tf.keras.models.load_model(\"model1.cnn\") # model1.hdf5 is a saved model while training\n",
    "img_size=256\n",
    "CATEGORIES=[\"ten\",\"twenty\",\"fifty\"]\n",
    "\n"
   ]
  },
  {
   "cell_type": "code",
   "execution_count": null,
   "metadata": {},
   "outputs": [],
   "source": [
    "cap = cv.VideoCapture(0)\n",
    "time.sleep(2)\n",
    "while(cap.isOpened()):\n",
    "    _,img = cap.read()\n",
    "    img_array=cv.flip(img,3)\n",
    "    new_array = cv.resize(img_array, (img_size,img_size))# resize image to match model's expected sizing\n",
    "    new_array=new_array/1.0\n",
    "    cv.imshow('frame',img_array)\n",
    "    if cv.waitKey(1) & 0xff ==27:\n",
    "        break\n",
    "    new_array=new_array.reshape(-1,img_size,img_size, 3)# return the image with shaping that TF wants.\n",
    "    prediction = model.predict([new_array])\n",
    "    if prediction[0][0]== [1]:\n",
    "        print(\"ten\")\n",
    "    elif prediction[0][1]==[1]:\n",
    "        print(\"twenty\")\n",
    "    elif prediction[0][2]==[1]:\n",
    "        print(\"fifty\")\n",
    "    \n",
    "cap.release()\n",
    "cv.destroyAllWindows()\n"
   ]
  },
  {
   "cell_type": "code",
   "execution_count": null,
   "metadata": {},
   "outputs": [],
   "source": []
  }
 ],
 "metadata": {
  "kernelspec": {
   "display_name": "Python 3",
   "language": "python",
   "name": "python3"
  },
  "language_info": {
   "codemirror_mode": {
    "name": "ipython",
    "version": 3
   },
   "file_extension": ".py",
   "mimetype": "text/x-python",
   "name": "python",
   "nbconvert_exporter": "python",
   "pygments_lexer": "ipython3",
   "version": "3.7.3"
  }
 },
 "nbformat": 4,
 "nbformat_minor": 2
}
