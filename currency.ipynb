{
  "nbformat": 4,
  "nbformat_minor": 0,
  "metadata": {
    "colab": {
      "name": "currency.ipynb",
      "provenance": [],
      "collapsed_sections": [],
      "machine_shape": "hm"
    },
    "kernelspec": {
      "name": "python3",
      "display_name": "Python 3"
    },
    "accelerator": "GPU"
  },
  "cells": [
    {
      "cell_type": "code",
      "metadata": {
        "id": "CetDLqZiIVPG",
        "colab_type": "code",
        "colab": {}
      },
      "source": [
        "from zipfile import ZipFile\n",
        "file_name=\"aliza2.zip\"\n",
        "with ZipFile(file_name,'r') as zip:\n",
        "  zip.extractall()\n",
        "  print(done)\n",
        "\n"
      ],
      "execution_count": 0,
      "outputs": []
    },
    {
      "cell_type": "code",
      "metadata": {
        "id": "mvCvjw0AenLD",
        "colab_type": "code",
        "outputId": "95daf739-3f7b-4414-82f6-7d4b22059b4f",
        "colab": {
          "base_uri": "https://localhost:8080/",
          "height": 451
        }
      },
      "source": [
        "from google.colab import files\n",
        "\n",
        "with open('mode1.cnn', 'w') as f:\n",
        "  f.write('model1.hdf5')\n",
        "\n",
        "files.download('model1.cnn')"
      ],
      "execution_count": 0,
      "outputs": [
        {
          "output_type": "stream",
          "text": [
            "----------------------------------------\n",
            "Exception happened during processing of request from ('::ffff:127.0.0.1', 46630, 0, 0)\n",
            "Traceback (most recent call last):\n",
            "  File \"/usr/lib/python3.6/socketserver.py\", line 320, in _handle_request_noblock\n",
            "    self.process_request(request, client_address)\n",
            "  File \"/usr/lib/python3.6/socketserver.py\", line 351, in process_request\n",
            "    self.finish_request(request, client_address)\n",
            "  File \"/usr/lib/python3.6/socketserver.py\", line 364, in finish_request\n",
            "    self.RequestHandlerClass(request, client_address, self)\n",
            "  File \"/usr/lib/python3.6/socketserver.py\", line 724, in __init__\n",
            "    self.handle()\n",
            "  File \"/usr/lib/python3.6/http/server.py\", line 418, in handle\n",
            "    self.handle_one_request()\n",
            "  File \"/usr/lib/python3.6/http/server.py\", line 406, in handle_one_request\n",
            "    method()\n",
            "  File \"/usr/lib/python3.6/http/server.py\", line 639, in do_GET\n",
            "    self.copyfile(f, self.wfile)\n",
            "  File \"/usr/lib/python3.6/http/server.py\", line 800, in copyfile\n",
            "    shutil.copyfileobj(source, outputfile)\n",
            "  File \"/usr/lib/python3.6/shutil.py\", line 82, in copyfileobj\n",
            "    fdst.write(buf)\n",
            "  File \"/usr/lib/python3.6/socketserver.py\", line 803, in write\n",
            "    self._sock.sendall(b)\n",
            "ConnectionResetError: [Errno 104] Connection reset by peer\n",
            "----------------------------------------\n"
          ],
          "name": "stderr"
        }
      ]
    },
    {
      "cell_type": "code",
      "metadata": {
        "id": "rVEO9On3jDDy",
        "colab_type": "code",
        "colab": {}
      },
      "source": [
        "from google.colab import files\n",
        "\n",
        "with open('example.txt', 'w') as f:\n",
        "  f.write('some content')\n",
        "\n",
        "files.download('example.txt')"
      ],
      "execution_count": 0,
      "outputs": []
    },
    {
      "cell_type": "code",
      "metadata": {
        "id": "6DK4k1IHSCbB",
        "colab_type": "code",
        "outputId": "2107f727-2a85-4ecc-a006-bc2878574352",
        "colab": {
          "base_uri": "https://localhost:8080/",
          "height": 245
        }
      },
      "source": [
        "!wget -O aliza2.zip https://doc-0k-90-docs.googleusercontent.com/docs/securesc/ha0ro937gcuc7l7deffksulhg5h7mbp1/9393n4l4tac48a19ktid5a0a2q5jpfrs/1580090400000/09750456226342476441/*/15otGqHvpdUgwGVs_hJKqnQ3U3LrVcaE0?e=download"
      ],
      "execution_count": 0,
      "outputs": [
        {
          "output_type": "stream",
          "text": [
            "Warning: wildcards not supported in HTTP.\n",
            "--2020-01-27 04:47:38--  https://doc-0k-90-docs.googleusercontent.com/docs/securesc/ha0ro937gcuc7l7deffksulhg5h7mbp1/9393n4l4tac48a19ktid5a0a2q5jpfrs/1580090400000/09750456226342476441/*/15otGqHvpdUgwGVs_hJKqnQ3U3LrVcaE0?e=download\n",
            "Resolving doc-0k-90-docs.googleusercontent.com (doc-0k-90-docs.googleusercontent.com)... 108.177.125.132, 2404:6800:4008:c01::84\n",
            "Connecting to doc-0k-90-docs.googleusercontent.com (doc-0k-90-docs.googleusercontent.com)|108.177.125.132|:443... connected.\n",
            "HTTP request sent, awaiting response... 200 OK\n",
            "Length: unspecified [application/zip]\n",
            "Saving to: ‘aliza2.zip’\n",
            "\n",
            "aliza2.zip              [             <=>    ] 665.39M   276MB/s    in 2.4s    \n",
            "\n",
            "2020-01-27 04:47:46 (276 MB/s) - ‘aliza2.zip’ saved [697712823]\n",
            "\n"
          ],
          "name": "stdout"
        }
      ]
    },
    {
      "cell_type": "code",
      "metadata": {
        "id": "Wsn7TmR5onbF",
        "colab_type": "code",
        "colab": {}
      },
      "source": [
        "import cv2 as cv\n",
        "import numpy as np\n",
        "import os\n",
        "import matplotlib.pyplot as plt\n",
        "from tqdm import tqdm\n",
        "import random\n",
        "\n",
        "DATADIR=\"aliza\"\n",
        "CATEGORIES=[\"ten\",\"twenty\",\"fifty\"]\n",
        "img_size=256\n"
      ],
      "execution_count": 0,
      "outputs": []
    },
    {
      "cell_type": "code",
      "metadata": {
        "id": "tsLMQxxLpEGB",
        "colab_type": "code",
        "outputId": "62b95034-9756-4974-e130-87f8bf93972d",
        "colab": {
          "base_uri": "https://localhost:8080/",
          "height": 86
        }
      },
      "source": [
        "\n",
        "training_data=[]\n",
        "def create_training_data():\n",
        "  for i in tqdm(CATEGORIES):\n",
        "    path=os.path.join(DATADIR,i)\n",
        "    class_num=CATEGORIES.index(i)\n",
        "    print(class_num)\n",
        "    for img in (os.listdir(path)):\n",
        "      img_array=cv.resize(cv.imread(os.path.join(path,img),cv.IMREAD_COLOR),(img_size,img_size))\n",
        "      training_data.append([img_array,class_num])\n",
        "  np.save('train_data.npy',training_data)\n",
        "  random.shuffle(training_data)       \n",
        "create_training_data()\n"
      ],
      "execution_count": 2,
      "outputs": [
        {
          "output_type": "stream",
          "text": [
            "\r  0%|          | 0/3 [00:00<?, ?it/s]"
          ],
          "name": "stderr"
        },
        {
          "output_type": "stream",
          "text": [
            "0\n"
          ],
          "name": "stdout"
        },
        {
          "output_type": "stream",
          "text": [
            "\r 33%|███▎      | 1/3 [00:13<00:26, 13.06s/it]"
          ],
          "name": "stderr"
        },
        {
          "output_type": "stream",
          "text": [
            "1\n"
          ],
          "name": "stdout"
        },
        {
          "output_type": "stream",
          "text": [
            "\r 67%|██████▋   | 2/3 [00:25<00:12, 12.77s/it]"
          ],
          "name": "stderr"
        },
        {
          "output_type": "stream",
          "text": [
            "2\n"
          ],
          "name": "stdout"
        },
        {
          "output_type": "stream",
          "text": [
            "\r100%|██████████| 3/3 [00:39<00:00, 13.30s/it]\n"
          ],
          "name": "stderr"
        }
      ]
    },
    {
      "cell_type": "code",
      "metadata": {
        "id": "AWjzM2M-qZxG",
        "colab_type": "code",
        "outputId": "2fd7c484-800f-4948-96d1-fbd7ec141914",
        "colab": {
          "base_uri": "https://localhost:8080/",
          "height": 34
        }
      },
      "source": [
        "X =[]\n",
        "y =[]\n",
        "for features,label in training_data:\n",
        "    X.append(features)\n",
        "    y.append(label)\n",
        "X=np.array(X)\n",
        "y=np.array(y)\n",
        "print(y)"
      ],
      "execution_count": 3,
      "outputs": [
        {
          "output_type": "stream",
          "text": [
            "[1 0 2 ... 0 0 0]\n"
          ],
          "name": "stdout"
        }
      ]
    },
    {
      "cell_type": "code",
      "metadata": {
        "id": "yuSq0kgjbGG1",
        "colab_type": "code",
        "outputId": "0fc2e9ac-75f9-45d5-d340-e85215a27960",
        "colab": {
          "base_uri": "https://localhost:8080/",
          "height": 448
        }
      },
      "source": [
        "import tensorflow as tf\n",
        "import keras\n",
        "from tensorflow.keras.preprocessing.image import ImageDataGenerator\n",
        "from tensorflow.keras.models import Sequential\n",
        "from tensorflow.keras.layers import Dense, Dropout, Activation, Flatten\n",
        "from tensorflow.keras.layers import Conv2D, MaxPooling2D,BatchNormalization\n",
        "from tensorflow.keras.callbacks import TensorBoard\n",
        "from keras.utils import to_categorical  \n",
        "from tensorflow.python.keras.optimizers import Adam, Adagrad\n",
        "\n",
        "#NAME=\"currencyy\"\n",
        "#tensorboard = TensorBoard(log_dir=\"logs/{}\".format(NAME))\n",
        "X = X.reshape([-1,img_size,img_size, 3])\n",
        "\n",
        "X=X/255.0\n",
        "y= to_categorical(y)\n",
        "print(y)\n",
        "\n",
        "model = Sequential()\n",
        "\n",
        "model.add(Conv2D(256,kernel_size=(3, 3),strides=(1,1),input_shape=(img_size,img_size,3)))\n",
        "#model.add(BatchNormalization())\n",
        "model.add(Activation('relu'))\n",
        "model.add(MaxPooling2D(pool_size=(2, 2)))\n",
        "\n",
        "model.add(Conv2D(256,kernel_size=(3, 3),strides=(1,1)))\n",
        "#model.add(BatchNormalization())\n",
        "model.add(Activation('relu'))\n",
        "model.add(MaxPooling2D(pool_size=(2, 2)))\n",
        "\n",
        "model.add(Flatten())  # this converts our 3D feature maps to 1D feature vectors\n",
        "\n",
        "model.add(Dense(64))\n",
        "model.add(Activation('relu'))\n",
        "\n",
        "model.add(Dense(3))\n",
        "model.add(Activation('softmax'))\n",
        "opt=Adam(lr=0.0001)\n",
        "model.compile(loss='categorical_crossentropy',optimizer=opt,metrics=['accuracy'])\n",
        "#model.compile(loss='categorical_crossentropy',optimizer='adam',metrics=['accuracy'])#binary for using only two classes\n",
        "#model.compile(loss='binary_crossentropy',optimizer='adam',metrics=['accuracy'])#binary for using only two classes\n",
        "\n",
        "model.fit(X, y, batch_size=32, epochs=4, validation_split=0.2)\n",
        "model.save('model1.hdf5')\n"
      ],
      "execution_count": 4,
      "outputs": [
        {
          "output_type": "display_data",
          "data": {
            "text/html": [
              "<p style=\"color: red;\">\n",
              "The default version of TensorFlow in Colab will soon switch to TensorFlow 2.x.<br>\n",
              "We recommend you <a href=\"https://www.tensorflow.org/guide/migrate\" target=\"_blank\">upgrade</a> now \n",
              "or ensure your notebook will continue to use TensorFlow 1.x via the <code>%tensorflow_version 1.x</code> magic:\n",
              "<a href=\"https://colab.research.google.com/notebooks/tensorflow_version.ipynb\" target=\"_blank\">more info</a>.</p>\n"
            ],
            "text/plain": [
              "<IPython.core.display.HTML object>"
            ]
          },
          "metadata": {
            "tags": []
          }
        },
        {
          "output_type": "stream",
          "text": [
            "Using TensorFlow backend.\n"
          ],
          "name": "stderr"
        },
        {
          "output_type": "stream",
          "text": [
            "[[0. 1. 0.]\n",
            " [1. 0. 0.]\n",
            " [0. 0. 1.]\n",
            " ...\n",
            " [1. 0. 0.]\n",
            " [1. 0. 0.]\n",
            " [1. 0. 0.]]\n",
            "WARNING:tensorflow:From /usr/local/lib/python3.6/dist-packages/tensorflow_core/python/ops/resource_variable_ops.py:1630: calling BaseResourceVariable.__init__ (from tensorflow.python.ops.resource_variable_ops) with constraint is deprecated and will be removed in a future version.\n",
            "Instructions for updating:\n",
            "If using Keras pass *_constraint arguments to layers.\n",
            "Train on 4934 samples, validate on 1234 samples\n",
            "Epoch 1/4\n",
            "4934/4934 [==============================] - 47s 10ms/sample - loss: 0.6079 - acc: 0.7268 - val_loss: 0.4258 - val_acc: 0.8379\n",
            "Epoch 2/4\n",
            "4934/4934 [==============================] - 39s 8ms/sample - loss: 0.2810 - acc: 0.8950 - val_loss: 0.2203 - val_acc: 0.9092\n",
            "Epoch 3/4\n",
            "4934/4934 [==============================] - 39s 8ms/sample - loss: 0.1362 - acc: 0.9601 - val_loss: 0.1968 - val_acc: 0.9190\n",
            "Epoch 4/4\n",
            "4934/4934 [==============================] - 39s 8ms/sample - loss: 0.0762 - acc: 0.9805 - val_loss: 0.1281 - val_acc: 0.9562\n"
          ],
          "name": "stdout"
        }
      ]
    },
    {
      "cell_type": "code",
      "metadata": {
        "id": "LriRB_U-11Td",
        "colab_type": "code",
        "outputId": "b57350e2-196d-466a-b407-c4ec057a818b",
        "colab": {
          "base_uri": "https://localhost:8080/",
          "height": 538
        }
      },
      "source": [
        "model.summary()"
      ],
      "execution_count": 0,
      "outputs": [
        {
          "output_type": "stream",
          "text": [
            "Model: \"sequential\"\n",
            "_________________________________________________________________\n",
            "Layer (type)                 Output Shape              Param #   \n",
            "=================================================================\n",
            "conv2d (Conv2D)              (None, 254, 254, 256)     7168      \n",
            "_________________________________________________________________\n",
            "activation (Activation)      (None, 254, 254, 256)     0         \n",
            "_________________________________________________________________\n",
            "max_pooling2d (MaxPooling2D) (None, 127, 127, 256)     0         \n",
            "_________________________________________________________________\n",
            "conv2d_1 (Conv2D)            (None, 125, 125, 256)     590080    \n",
            "_________________________________________________________________\n",
            "activation_1 (Activation)    (None, 125, 125, 256)     0         \n",
            "_________________________________________________________________\n",
            "max_pooling2d_1 (MaxPooling2 (None, 62, 62, 256)       0         \n",
            "_________________________________________________________________\n",
            "flatten (Flatten)            (None, 984064)            0         \n",
            "_________________________________________________________________\n",
            "dense (Dense)                (None, 64)                62980160  \n",
            "_________________________________________________________________\n",
            "activation_2 (Activation)    (None, 64)                0         \n",
            "_________________________________________________________________\n",
            "dense_1 (Dense)              (None, 3)                 195       \n",
            "_________________________________________________________________\n",
            "activation_3 (Activation)    (None, 3)                 0         \n",
            "=================================================================\n",
            "Total params: 63,577,603\n",
            "Trainable params: 63,577,603\n",
            "Non-trainable params: 0\n",
            "_________________________________________________________________\n"
          ],
          "name": "stdout"
        }
      ]
    },
    {
      "cell_type": "code",
      "metadata": {
        "id": "gQIh4lqAqosR",
        "colab_type": "code",
        "outputId": "1abe9903-2fe7-4b03-907c-30e3047f2011",
        "colab": {
          "base_uri": "https://localhost:8080/",
          "height": 34
        }
      },
      "source": [
        "import tensorflow as tf\n",
        "from tensorflow.keras.datasets import cifar10\n",
        "from tensorflow.keras.preprocessing.image import ImageDataGenerator\n",
        "from tensorflow.keras.models import Sequential\n",
        "from tensorflow.keras.layers import Dense, Dropout, Activation, Flatten\n",
        "from tensorflow.keras.layers import Conv2D, MaxPooling2D\n",
        "from tensorflow.keras.callbacks import TensorBoard\n",
        "\n",
        "model = tf.keras.models.load_model(\"model1.hdf5\")\n",
        "\n",
        "prediction = model.predict(prepare('a1.jpg'))\n",
        "print(prediction)\n"
      ],
      "execution_count": 7,
      "outputs": [
        {
          "output_type": "stream",
          "text": [
            "[[1. 0. 0.]]\n"
          ],
          "name": "stdout"
        }
      ]
    },
    {
      "cell_type": "code",
      "metadata": {
        "id": "nxi1sThb10Bp",
        "colab_type": "code",
        "colab": {}
      },
      "source": [
        ""
      ],
      "execution_count": 0,
      "outputs": []
    },
    {
      "cell_type": "code",
      "metadata": {
        "id": "SK2YPYl-rvVX",
        "colab_type": "code",
        "colab": {}
      },
      "source": [
        "def prepare(filepath):\n",
        "    img_array = cv.imread(filepath, cv.IMREAD_COLOR)  # read in the image, convert to grayscale\n",
        "    new_array = cv.resize(img_array, (img_size,img_size))# resize image to match model's expected sizing\n",
        "    new_array=new_array/1.0\n",
        "    return new_array.reshape(-1,img_size,img_size, 3)  # return the image with shaping that TF wants.\n"
      ],
      "execution_count": 0,
      "outputs": []
    },
    {
      "cell_type": "code",
      "metadata": {
        "id": "XhVbwoyBruKX",
        "colab_type": "code",
        "colab": {}
      },
      "source": [
        ""
      ],
      "execution_count": 0,
      "outputs": []
    },
    {
      "cell_type": "code",
      "metadata": {
        "id": "_0yba-xPrk_p",
        "colab_type": "code",
        "colab": {}
      },
      "source": [
        ""
      ],
      "execution_count": 0,
      "outputs": []
    }
  ]
}